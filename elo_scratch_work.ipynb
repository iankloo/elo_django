{
 "cells": [
  {
   "cell_type": "code",
   "execution_count": 1,
   "id": "236b25ad",
   "metadata": {},
   "outputs": [],
   "source": [
    "import pandas as pd\n",
    "import itertools\n",
    "from rater.models import Results, Experiment, People"
   ]
  },
  {
   "cell_type": "code",
   "execution_count": 2,
   "id": "aed9371b",
   "metadata": {},
   "outputs": [],
   "source": [
    "def get_elo_scores(exp_id, num_runs = 500):\n",
    "    \n",
    "    def elo_match(ra, rb, winner = 'a', k = 32):\n",
    "        exp_a = 1 / (1 + (10 ** ((rb - ra) / 400)))\n",
    "        exp_b = 1 / (1 + (10 ** ((ra - rb) / 400)))\n",
    "        if winner == 'a':\n",
    "            fa = ra + (k * (1 - exp_a))\n",
    "            fb = rb + (k * (0 - exp_b))\n",
    "        else:\n",
    "            fa = ra + (k * (0 - exp_a))\n",
    "            fb = rb + (k * (1 - exp_b))\n",
    "\n",
    "        return [fa, fb]\n",
    "    \n",
    "    my_exp = Experiment.objects.get(id = exp_id)\n",
    "    my_res = Results.objects.filter(experiment_name = my_exp.id)\n",
    "    df = pd.DataFrame.from_records(my_res.values('name_1', 'name_2','winner', 'rater'))\n",
    "    df['loser'] = df.name_1\n",
    "    df.loser[df.loser == df.winner] = df.name_2\n",
    "    df.drop(['name_1', 'name_2'], axis = 1, inplace = True)\n",
    "    \n",
    "    all_runs = list()\n",
    "    for i in range(num_runs):\n",
    "        #shuffle data\n",
    "        df = df.sample(frac = 1)\n",
    "        #starting scores\n",
    "        running_scores = {x: 1000 for x in set(pd.concat([df['winner'], df['loser']]))}\n",
    "        #set scores based on wins/losses\n",
    "        for index, row in df.iterrows():\n",
    "            elo_update = elo_match(running_scores[row.winner], running_scores[row.loser])\n",
    "            running_scores[row.winner] = elo_update[0]\n",
    "            running_scores[row.loser] = elo_update[1]\n",
    "\n",
    "        all_runs.append(pd.DataFrame(running_scores.items(), columns = ['name','score']))\n",
    "\n",
    "    all_runs = pd.concat(all_runs, ignore_index = True)\n",
    "    avg_scores = all_runs.groupby('name').mean()\n",
    "    avg_scores.reset_index(drop = False, inplace = True)\n",
    "    \n",
    "    real_names = []\n",
    "    for index, row in avg_scores.iterrows():\n",
    "        real_names.append(str(People.objects.get(id = row['name'])))\n",
    "\n",
    "    avg_scores['name'] = real_names\n",
    "    \n",
    "    return(avg_scores)"
   ]
  },
  {
   "cell_type": "code",
   "execution_count": 3,
   "id": "c164ea47",
   "metadata": {},
   "outputs": [
    {
     "data": {
      "text/html": [
       "<div>\n",
       "<style scoped>\n",
       "    .dataframe tbody tr th:only-of-type {\n",
       "        vertical-align: middle;\n",
       "    }\n",
       "\n",
       "    .dataframe tbody tr th {\n",
       "        vertical-align: top;\n",
       "    }\n",
       "\n",
       "    .dataframe thead th {\n",
       "        text-align: right;\n",
       "    }\n",
       "</style>\n",
       "<table border=\"1\" class=\"dataframe\">\n",
       "  <thead>\n",
       "    <tr style=\"text-align: right;\">\n",
       "      <th></th>\n",
       "      <th>name</th>\n",
       "      <th>score</th>\n",
       "    </tr>\n",
       "  </thead>\n",
       "  <tbody>\n",
       "    <tr>\n",
       "      <th>0</th>\n",
       "      <td>MAJ John Case</td>\n",
       "      <td>943.899246</td>\n",
       "    </tr>\n",
       "    <tr>\n",
       "      <th>1</th>\n",
       "      <td>COL Riley Post</td>\n",
       "      <td>999.821644</td>\n",
       "    </tr>\n",
       "    <tr>\n",
       "      <th>2</th>\n",
       "      <td>CPL Ian Kloo</td>\n",
       "      <td>1028.363382</td>\n",
       "    </tr>\n",
       "    <tr>\n",
       "      <th>3</th>\n",
       "      <td>PV2 TEST TEST</td>\n",
       "      <td>1027.915728</td>\n",
       "    </tr>\n",
       "  </tbody>\n",
       "</table>\n",
       "</div>"
      ],
      "text/plain": [
       "             name        score\n",
       "0   MAJ John Case   943.899246\n",
       "1  COL Riley Post   999.821644\n",
       "2    CPL Ian Kloo  1028.363382\n",
       "3   PV2 TEST TEST  1027.915728"
      ]
     },
     "execution_count": 3,
     "metadata": {},
     "output_type": "execute_result"
    }
   ],
   "source": [
    "#exp = Experiment.objects.get(title = \"TEST\")\n",
    "#exp.id\n",
    "\n",
    "get_elo_scores(exp_id = 28)"
   ]
  },
  {
   "cell_type": "code",
   "execution_count": null,
   "id": "6edfc223",
   "metadata": {},
   "outputs": [],
   "source": []
  },
  {
   "cell_type": "code",
   "execution_count": null,
   "id": "bee7b861",
   "metadata": {},
   "outputs": [],
   "source": []
  },
  {
   "cell_type": "code",
   "execution_count": null,
   "id": "cfd6fc02",
   "metadata": {},
   "outputs": [],
   "source": []
  },
  {
   "cell_type": "code",
   "execution_count": null,
   "id": "89b39ded",
   "metadata": {},
   "outputs": [],
   "source": [
    "def elo_match(ra, rb, winner = 'a', k = 32):\n",
    "    exp_a = 1 / (1 + (10 ** ((rb - ra) / 400)))\n",
    "    exp_b = 1 / (1 + (10 ** ((ra - rb) / 400)))\n",
    "    if winner == 'a':\n",
    "        fa = ra + (k * (1 - exp_a))\n",
    "        fb = rb + (k * (0 - exp_b))\n",
    "    else:\n",
    "        fa = ra + (k * (0 - exp_a))\n",
    "        fb = rb + (k * (1 - exp_b))\n",
    "        \n",
    "    return [fa, fb]"
   ]
  },
  {
   "cell_type": "code",
   "execution_count": null,
   "id": "b1b7b74a",
   "metadata": {},
   "outputs": [],
   "source": [
    "#get experiment - this one is known complete\n",
    "my_exp = Experiment.objects.get(title = \"TEST\")\n",
    "my_exp"
   ]
  },
  {
   "cell_type": "code",
   "execution_count": null,
   "id": "62e8ba9a",
   "metadata": {},
   "outputs": [],
   "source": [
    "#get results for that experiment\n",
    "my_res = Results.objects.filter(experiment_name = my_exp.id)\n",
    "my_res"
   ]
  },
  {
   "cell_type": "code",
   "execution_count": null,
   "id": "fc77d38d",
   "metadata": {},
   "outputs": [],
   "source": [
    "#make pandas dataframe out of query results and establish loser column\n",
    "df = pd.DataFrame.from_records(my_res.values('name_1', 'name_2','winner', 'rater'))\n",
    "df['loser'] = df.name_1\n",
    "df.loser[df.loser == df.winner] = df.name_2\n",
    "df.drop(['name_1', 'name_2'], axis = 1, inplace = True)\n",
    "\n",
    "df"
   ]
  },
  {
   "cell_type": "code",
   "execution_count": null,
   "id": "0825b1d3",
   "metadata": {},
   "outputs": [],
   "source": [
    "#adjudicate elo ratings\n",
    "num_runs = 500\n",
    "\n",
    "all_runs = list()\n",
    "for i in range(num_runs):\n",
    "    #shuffle data\n",
    "    df = df.sample(frac = 1)\n",
    "    #starting scores\n",
    "    running_scores = {x: 1000 for x in set(pd.concat([df['winner'], df['loser']]))}\n",
    "    #set scores based on wins/losses\n",
    "    for index, row in df.iterrows():\n",
    "        elo_update = elo_match(running_scores[row.winner], running_scores[row.loser])\n",
    "        running_scores[row.winner] = elo_update[0]\n",
    "        running_scores[row.loser] = elo_update[1]\n",
    "\n",
    "    all_runs.append(pd.DataFrame(running_scores.items(), columns = ['name','score']))\n",
    "\n",
    "all_runs = pd.concat(all_runs, ignore_index = True)\n",
    "avg_scores = all_runs.groupby('name').mean()\n",
    "avg_scores.reset_index(drop = False, inplace = True)\n",
    "\n",
    "avg_scores"
   ]
  },
  {
   "cell_type": "code",
   "execution_count": null,
   "id": "52118f47",
   "metadata": {},
   "outputs": [],
   "source": [
    "#pull names\n",
    "real_names = []\n",
    "for index, row in avg_scores.iterrows():\n",
    "    real_names.append(str(People.objects.get(id = row['name'])))\n",
    "\n",
    "avg_scores['name'] = real_names\n",
    "avg_scores"
   ]
  },
  {
   "cell_type": "code",
   "execution_count": null,
   "id": "cd693430",
   "metadata": {},
   "outputs": [],
   "source": []
  }
 ],
 "metadata": {
  "kernelspec": {
   "display_name": "Django Shell-Plus",
   "language": "python",
   "name": "django_extensions"
  },
  "language_info": {
   "codemirror_mode": {
    "name": "ipython",
    "version": 3
   },
   "file_extension": ".py",
   "mimetype": "text/x-python",
   "name": "python",
   "nbconvert_exporter": "python",
   "pygments_lexer": "ipython3",
   "version": "3.9.7"
  }
 },
 "nbformat": 4,
 "nbformat_minor": 5
}
